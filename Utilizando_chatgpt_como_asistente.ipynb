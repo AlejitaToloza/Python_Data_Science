{
  "nbformat": 4,
  "nbformat_minor": 0,
  "metadata": {
    "colab": {
      "provenance": [],
      "include_colab_link": true
    },
    "kernelspec": {
      "name": "python3",
      "display_name": "Python 3"
    },
    "language_info": {
      "name": "python"
    }
  },
  "cells": [
    {
      "cell_type": "markdown",
      "metadata": {
        "id": "view-in-github",
        "colab_type": "text"
      },
      "source": [
        "<a href=\"https://colab.research.google.com/github/AlejitaToloza/Python_Data_Science/blob/main/Utilizando_chatgpt_como_asistente.ipynb\" target=\"_parent\"><img src=\"https://colab.research.google.com/assets/colab-badge.svg\" alt=\"Open In Colab\"/></a>"
      ]
    },
    {
      "cell_type": "markdown",
      "source": [
        "# <strong><font color=\"7b71ff\">Análisis de datos con python: Utilizando ChatGPT como asistente</font></strong>\n",
        "\n",
        "\n",
        "---"
      ],
      "metadata": {
        "id": "xH5tFkmkRt_n"
      }
    },
    {
      "cell_type": "markdown",
      "source": [
        "<img src=\"https://raw.githubusercontent.com/alura-cursos/ia-datascience-dataviz/main/imagens/logos/logo_branca_fundo_azul.png\" alt=\"inserir alt\">"
      ],
      "metadata": {
        "id": "sQ_RdGPMSWeu"
      }
    },
    {
      "cell_type": "markdown",
      "source": [
        "# **Aula 1 - Conociendo los datos**"
      ],
      "metadata": {
        "id": "heBVzgb0SeZH"
      }
    },
    {
      "cell_type": "markdown",
      "source": [
        " Zoop es una gran minorista que atiende a todas las regiones de México a través de su e-commerce. Es conocida por la amplia variedad de productos que ofrece, buscando satisfacer a todo tipo de público. Posee una serie de centros de distribución (CDs) para la entrega de sus productos, la mayoría de ellos situados en el estado de Mexico. También posee una cadena de supermercados, y vamos a trabajar como científicos de datos para esta prestigiosa empresa."
      ],
      "metadata": {
        "id": "o9mGhpCVSxFt"
      }
    },
    {
      "cell_type": "markdown",
      "source": [
        "### **Accesando a los datos**"
      ],
      "metadata": {
        "id": "0Sw9QGuVcCRv"
      }
    },
    {
      "cell_type": "code",
      "source": [
        "url = 'https://gist.githubusercontent.com/ahcamachod/24a6235f7cdf255501b5ab4f9b0fd97f/raw/fa329f6d6c1b6b00b3ba457cdc850b53210633ca/zoop_market.json'"
      ],
      "metadata": {
        "id": "pKX3QMfJ-vsP"
      },
      "execution_count": 2,
      "outputs": []
    },
    {
      "cell_type": "markdown",
      "source": [
        "> #### <strong><font color=\"7b71ff\" size =6>Prompt:</font></strong>\n",
        "\n",
        "Vamos a actuar como científicos de datos en Zoop.\n",
        "\n",
        "Recibimos datos en formato de archivo JSON, estructurados en listas y diccionarios. El archivo está disponible en una URL de Github.\n",
        "\n",
        "Necesitamos analizar esos datos para ayudar en las decisiones de la empresa. Programamos en Python y conocemos las bibliotecas de análisis de datos Numpy y Pandas. Por lo tanto, prioriza el uso de estas bibliotecas.\n",
        "\n",
        "Igualmente, infórmanos cómo podemos leer estos datos en formato JSON y para poder visualizarlos en formato de tabla en Python."
      ],
      "metadata": {
        "id": "VzsWSK91lIPb"
      }
    },
    {
      "cell_type": "code",
      "source": [
        "import pandas as pd\n",
        "import numpy as np\n",
        "\n",
        "# Leer los datos directamente desde la URL\n",
        "df = pd.read_json(url)"
      ],
      "metadata": {
        "id": "lrjCndn8e0cL"
      },
      "execution_count": 3,
      "outputs": []
    },
    {
      "cell_type": "code",
      "source": [
        "df"
      ],
      "metadata": {
        "id": "Je8xoTB7e0HC",
        "colab": {
          "base_uri": "https://localhost:8080/",
          "height": 423
        },
        "outputId": "c46fcca3-809f-4bf7-f2f3-fcb1fd7a7645"
      },
      "execution_count": 6,
      "outputs": [
        {
          "output_type": "execute_result",
          "data": {
            "text/plain": [
              "      index item_identificador tienda_identificador  ventas_totales  \\\n",
              "0         0              FDB08               OUT018       176503.58   \n",
              "1         1              DRQ35               OUT049       185758.20   \n",
              "2         2              FDD14               OUT018       165983.94   \n",
              "3         3              FDY37               OUT045       314923.40   \n",
              "4         4              FDY59               OUT018        64782.34   \n",
              "...     ...                ...                  ...             ...   \n",
              "8545   8545              FDY08               OUT010        28096.76   \n",
              "8546   8546              FDC41               OUT017       130163.90   \n",
              "8547   8547              NCQ53               OUT045       614533.40   \n",
              "8548   8548              FDL46               OUT017       164985.24   \n",
              "8549   8549              NCN30               OUT046        96541.00   \n",
              "\n",
              "                                                   item  \\\n",
              "0     {'item_peso': 6.055, 'item_contenido_grasa': '...   \n",
              "1     {'item_peso': 9.3, 'item_contenido_grasa': 'Ba...   \n",
              "2     {'item_peso': 20.7, 'item_contenido_grasa': 'B...   \n",
              "3     {'item_peso': 17.0, 'item_contenido_grasa': 'R...   \n",
              "4     {'item_peso': 8.195, 'item_contenido_grasa': '...   \n",
              "...                                                 ...   \n",
              "8545  {'item_peso': 9.395, 'item_contenido_grasa': '...   \n",
              "8546  {'item_peso': 15.6, 'item_contenido_grasa': 'B...   \n",
              "8547  {'item_peso': 17.6, 'item_contenido_grasa': 'B...   \n",
              "8548  {'item_peso': 20.35, 'item_contenido_grasa': '...   \n",
              "8549  {'item_peso': 16.35, 'item_contenido_grasa': '...   \n",
              "\n",
              "                                                 tienda  \n",
              "0     {'tienda_ano_establecimiento': 2019, 'tienda_t...  \n",
              "1     {'tienda_ano_establecimiento': 2009, 'tienda_t...  \n",
              "2     {'tienda_ano_establecimiento': 2019, 'tienda_t...  \n",
              "3     {'tienda_ano_establecimiento': 2012, 'tienda_t...  \n",
              "4     {'tienda_ano_establecimiento': 2019, 'tienda_t...  \n",
              "...                                                 ...  \n",
              "8545  {'tienda_ano_establecimiento': 2008, 'tienda_t...  \n",
              "8546  {'tienda_ano_establecimiento': 2017, 'tienda_t...  \n",
              "8547  {'tienda_ano_establecimiento': 2012, 'tienda_t...  \n",
              "8548  {'tienda_ano_establecimiento': 2017, 'tienda_t...  \n",
              "8549  {'tienda_ano_establecimiento': 2007, 'tienda_t...  \n",
              "\n",
              "[8550 rows x 6 columns]"
            ],
            "text/html": [
              "\n",
              "  <div id=\"df-035c40f4-4286-483d-9066-b05b111ce25d\" class=\"colab-df-container\">\n",
              "    <div>\n",
              "<style scoped>\n",
              "    .dataframe tbody tr th:only-of-type {\n",
              "        vertical-align: middle;\n",
              "    }\n",
              "\n",
              "    .dataframe tbody tr th {\n",
              "        vertical-align: top;\n",
              "    }\n",
              "\n",
              "    .dataframe thead th {\n",
              "        text-align: right;\n",
              "    }\n",
              "</style>\n",
              "<table border=\"1\" class=\"dataframe\">\n",
              "  <thead>\n",
              "    <tr style=\"text-align: right;\">\n",
              "      <th></th>\n",
              "      <th>index</th>\n",
              "      <th>item_identificador</th>\n",
              "      <th>tienda_identificador</th>\n",
              "      <th>ventas_totales</th>\n",
              "      <th>item</th>\n",
              "      <th>tienda</th>\n",
              "    </tr>\n",
              "  </thead>\n",
              "  <tbody>\n",
              "    <tr>\n",
              "      <th>0</th>\n",
              "      <td>0</td>\n",
              "      <td>FDB08</td>\n",
              "      <td>OUT018</td>\n",
              "      <td>176503.58</td>\n",
              "      <td>{'item_peso': 6.055, 'item_contenido_grasa': '...</td>\n",
              "      <td>{'tienda_ano_establecimiento': 2019, 'tienda_t...</td>\n",
              "    </tr>\n",
              "    <tr>\n",
              "      <th>1</th>\n",
              "      <td>1</td>\n",
              "      <td>DRQ35</td>\n",
              "      <td>OUT049</td>\n",
              "      <td>185758.20</td>\n",
              "      <td>{'item_peso': 9.3, 'item_contenido_grasa': 'Ba...</td>\n",
              "      <td>{'tienda_ano_establecimiento': 2009, 'tienda_t...</td>\n",
              "    </tr>\n",
              "    <tr>\n",
              "      <th>2</th>\n",
              "      <td>2</td>\n",
              "      <td>FDD14</td>\n",
              "      <td>OUT018</td>\n",
              "      <td>165983.94</td>\n",
              "      <td>{'item_peso': 20.7, 'item_contenido_grasa': 'B...</td>\n",
              "      <td>{'tienda_ano_establecimiento': 2019, 'tienda_t...</td>\n",
              "    </tr>\n",
              "    <tr>\n",
              "      <th>3</th>\n",
              "      <td>3</td>\n",
              "      <td>FDY37</td>\n",
              "      <td>OUT045</td>\n",
              "      <td>314923.40</td>\n",
              "      <td>{'item_peso': 17.0, 'item_contenido_grasa': 'R...</td>\n",
              "      <td>{'tienda_ano_establecimiento': 2012, 'tienda_t...</td>\n",
              "    </tr>\n",
              "    <tr>\n",
              "      <th>4</th>\n",
              "      <td>4</td>\n",
              "      <td>FDY59</td>\n",
              "      <td>OUT018</td>\n",
              "      <td>64782.34</td>\n",
              "      <td>{'item_peso': 8.195, 'item_contenido_grasa': '...</td>\n",
              "      <td>{'tienda_ano_establecimiento': 2019, 'tienda_t...</td>\n",
              "    </tr>\n",
              "    <tr>\n",
              "      <th>...</th>\n",
              "      <td>...</td>\n",
              "      <td>...</td>\n",
              "      <td>...</td>\n",
              "      <td>...</td>\n",
              "      <td>...</td>\n",
              "      <td>...</td>\n",
              "    </tr>\n",
              "    <tr>\n",
              "      <th>8545</th>\n",
              "      <td>8545</td>\n",
              "      <td>FDY08</td>\n",
              "      <td>OUT010</td>\n",
              "      <td>28096.76</td>\n",
              "      <td>{'item_peso': 9.395, 'item_contenido_grasa': '...</td>\n",
              "      <td>{'tienda_ano_establecimiento': 2008, 'tienda_t...</td>\n",
              "    </tr>\n",
              "    <tr>\n",
              "      <th>8546</th>\n",
              "      <td>8546</td>\n",
              "      <td>FDC41</td>\n",
              "      <td>OUT017</td>\n",
              "      <td>130163.90</td>\n",
              "      <td>{'item_peso': 15.6, 'item_contenido_grasa': 'B...</td>\n",
              "      <td>{'tienda_ano_establecimiento': 2017, 'tienda_t...</td>\n",
              "    </tr>\n",
              "    <tr>\n",
              "      <th>8547</th>\n",
              "      <td>8547</td>\n",
              "      <td>NCQ53</td>\n",
              "      <td>OUT045</td>\n",
              "      <td>614533.40</td>\n",
              "      <td>{'item_peso': 17.6, 'item_contenido_grasa': 'B...</td>\n",
              "      <td>{'tienda_ano_establecimiento': 2012, 'tienda_t...</td>\n",
              "    </tr>\n",
              "    <tr>\n",
              "      <th>8548</th>\n",
              "      <td>8548</td>\n",
              "      <td>FDL46</td>\n",
              "      <td>OUT017</td>\n",
              "      <td>164985.24</td>\n",
              "      <td>{'item_peso': 20.35, 'item_contenido_grasa': '...</td>\n",
              "      <td>{'tienda_ano_establecimiento': 2017, 'tienda_t...</td>\n",
              "    </tr>\n",
              "    <tr>\n",
              "      <th>8549</th>\n",
              "      <td>8549</td>\n",
              "      <td>NCN30</td>\n",
              "      <td>OUT046</td>\n",
              "      <td>96541.00</td>\n",
              "      <td>{'item_peso': 16.35, 'item_contenido_grasa': '...</td>\n",
              "      <td>{'tienda_ano_establecimiento': 2007, 'tienda_t...</td>\n",
              "    </tr>\n",
              "  </tbody>\n",
              "</table>\n",
              "<p>8550 rows × 6 columns</p>\n",
              "</div>\n",
              "    <div class=\"colab-df-buttons\">\n",
              "\n",
              "  <div class=\"colab-df-container\">\n",
              "    <button class=\"colab-df-convert\" onclick=\"convertToInteractive('df-035c40f4-4286-483d-9066-b05b111ce25d')\"\n",
              "            title=\"Convert this dataframe to an interactive table.\"\n",
              "            style=\"display:none;\">\n",
              "\n",
              "  <svg xmlns=\"http://www.w3.org/2000/svg\" height=\"24px\" viewBox=\"0 -960 960 960\">\n",
              "    <path d=\"M120-120v-720h720v720H120Zm60-500h600v-160H180v160Zm220 220h160v-160H400v160Zm0 220h160v-160H400v160ZM180-400h160v-160H180v160Zm440 0h160v-160H620v160ZM180-180h160v-160H180v160Zm440 0h160v-160H620v160Z\"/>\n",
              "  </svg>\n",
              "    </button>\n",
              "\n",
              "  <style>\n",
              "    .colab-df-container {\n",
              "      display:flex;\n",
              "      gap: 12px;\n",
              "    }\n",
              "\n",
              "    .colab-df-convert {\n",
              "      background-color: #E8F0FE;\n",
              "      border: none;\n",
              "      border-radius: 50%;\n",
              "      cursor: pointer;\n",
              "      display: none;\n",
              "      fill: #1967D2;\n",
              "      height: 32px;\n",
              "      padding: 0 0 0 0;\n",
              "      width: 32px;\n",
              "    }\n",
              "\n",
              "    .colab-df-convert:hover {\n",
              "      background-color: #E2EBFA;\n",
              "      box-shadow: 0px 1px 2px rgba(60, 64, 67, 0.3), 0px 1px 3px 1px rgba(60, 64, 67, 0.15);\n",
              "      fill: #174EA6;\n",
              "    }\n",
              "\n",
              "    .colab-df-buttons div {\n",
              "      margin-bottom: 4px;\n",
              "    }\n",
              "\n",
              "    [theme=dark] .colab-df-convert {\n",
              "      background-color: #3B4455;\n",
              "      fill: #D2E3FC;\n",
              "    }\n",
              "\n",
              "    [theme=dark] .colab-df-convert:hover {\n",
              "      background-color: #434B5C;\n",
              "      box-shadow: 0px 1px 3px 1px rgba(0, 0, 0, 0.15);\n",
              "      filter: drop-shadow(0px 1px 2px rgba(0, 0, 0, 0.3));\n",
              "      fill: #FFFFFF;\n",
              "    }\n",
              "  </style>\n",
              "\n",
              "    <script>\n",
              "      const buttonEl =\n",
              "        document.querySelector('#df-035c40f4-4286-483d-9066-b05b111ce25d button.colab-df-convert');\n",
              "      buttonEl.style.display =\n",
              "        google.colab.kernel.accessAllowed ? 'block' : 'none';\n",
              "\n",
              "      async function convertToInteractive(key) {\n",
              "        const element = document.querySelector('#df-035c40f4-4286-483d-9066-b05b111ce25d');\n",
              "        const dataTable =\n",
              "          await google.colab.kernel.invokeFunction('convertToInteractive',\n",
              "                                                    [key], {});\n",
              "        if (!dataTable) return;\n",
              "\n",
              "        const docLinkHtml = 'Like what you see? Visit the ' +\n",
              "          '<a target=\"_blank\" href=https://colab.research.google.com/notebooks/data_table.ipynb>data table notebook</a>'\n",
              "          + ' to learn more about interactive tables.';\n",
              "        element.innerHTML = '';\n",
              "        dataTable['output_type'] = 'display_data';\n",
              "        await google.colab.output.renderOutput(dataTable, element);\n",
              "        const docLink = document.createElement('div');\n",
              "        docLink.innerHTML = docLinkHtml;\n",
              "        element.appendChild(docLink);\n",
              "      }\n",
              "    </script>\n",
              "  </div>\n",
              "\n",
              "\n",
              "    <div id=\"df-bd476552-6554-49f7-80ea-76626ddbb917\">\n",
              "      <button class=\"colab-df-quickchart\" onclick=\"quickchart('df-bd476552-6554-49f7-80ea-76626ddbb917')\"\n",
              "                title=\"Suggest charts\"\n",
              "                style=\"display:none;\">\n",
              "\n",
              "<svg xmlns=\"http://www.w3.org/2000/svg\" height=\"24px\"viewBox=\"0 0 24 24\"\n",
              "     width=\"24px\">\n",
              "    <g>\n",
              "        <path d=\"M19 3H5c-1.1 0-2 .9-2 2v14c0 1.1.9 2 2 2h14c1.1 0 2-.9 2-2V5c0-1.1-.9-2-2-2zM9 17H7v-7h2v7zm4 0h-2V7h2v10zm4 0h-2v-4h2v4z\"/>\n",
              "    </g>\n",
              "</svg>\n",
              "      </button>\n",
              "\n",
              "<style>\n",
              "  .colab-df-quickchart {\n",
              "      --bg-color: #E8F0FE;\n",
              "      --fill-color: #1967D2;\n",
              "      --hover-bg-color: #E2EBFA;\n",
              "      --hover-fill-color: #174EA6;\n",
              "      --disabled-fill-color: #AAA;\n",
              "      --disabled-bg-color: #DDD;\n",
              "  }\n",
              "\n",
              "  [theme=dark] .colab-df-quickchart {\n",
              "      --bg-color: #3B4455;\n",
              "      --fill-color: #D2E3FC;\n",
              "      --hover-bg-color: #434B5C;\n",
              "      --hover-fill-color: #FFFFFF;\n",
              "      --disabled-bg-color: #3B4455;\n",
              "      --disabled-fill-color: #666;\n",
              "  }\n",
              "\n",
              "  .colab-df-quickchart {\n",
              "    background-color: var(--bg-color);\n",
              "    border: none;\n",
              "    border-radius: 50%;\n",
              "    cursor: pointer;\n",
              "    display: none;\n",
              "    fill: var(--fill-color);\n",
              "    height: 32px;\n",
              "    padding: 0;\n",
              "    width: 32px;\n",
              "  }\n",
              "\n",
              "  .colab-df-quickchart:hover {\n",
              "    background-color: var(--hover-bg-color);\n",
              "    box-shadow: 0 1px 2px rgba(60, 64, 67, 0.3), 0 1px 3px 1px rgba(60, 64, 67, 0.15);\n",
              "    fill: var(--button-hover-fill-color);\n",
              "  }\n",
              "\n",
              "  .colab-df-quickchart-complete:disabled,\n",
              "  .colab-df-quickchart-complete:disabled:hover {\n",
              "    background-color: var(--disabled-bg-color);\n",
              "    fill: var(--disabled-fill-color);\n",
              "    box-shadow: none;\n",
              "  }\n",
              "\n",
              "  .colab-df-spinner {\n",
              "    border: 2px solid var(--fill-color);\n",
              "    border-color: transparent;\n",
              "    border-bottom-color: var(--fill-color);\n",
              "    animation:\n",
              "      spin 1s steps(1) infinite;\n",
              "  }\n",
              "\n",
              "  @keyframes spin {\n",
              "    0% {\n",
              "      border-color: transparent;\n",
              "      border-bottom-color: var(--fill-color);\n",
              "      border-left-color: var(--fill-color);\n",
              "    }\n",
              "    20% {\n",
              "      border-color: transparent;\n",
              "      border-left-color: var(--fill-color);\n",
              "      border-top-color: var(--fill-color);\n",
              "    }\n",
              "    30% {\n",
              "      border-color: transparent;\n",
              "      border-left-color: var(--fill-color);\n",
              "      border-top-color: var(--fill-color);\n",
              "      border-right-color: var(--fill-color);\n",
              "    }\n",
              "    40% {\n",
              "      border-color: transparent;\n",
              "      border-right-color: var(--fill-color);\n",
              "      border-top-color: var(--fill-color);\n",
              "    }\n",
              "    60% {\n",
              "      border-color: transparent;\n",
              "      border-right-color: var(--fill-color);\n",
              "    }\n",
              "    80% {\n",
              "      border-color: transparent;\n",
              "      border-right-color: var(--fill-color);\n",
              "      border-bottom-color: var(--fill-color);\n",
              "    }\n",
              "    90% {\n",
              "      border-color: transparent;\n",
              "      border-bottom-color: var(--fill-color);\n",
              "    }\n",
              "  }\n",
              "</style>\n",
              "\n",
              "      <script>\n",
              "        async function quickchart(key) {\n",
              "          const quickchartButtonEl =\n",
              "            document.querySelector('#' + key + ' button');\n",
              "          quickchartButtonEl.disabled = true;  // To prevent multiple clicks.\n",
              "          quickchartButtonEl.classList.add('colab-df-spinner');\n",
              "          try {\n",
              "            const charts = await google.colab.kernel.invokeFunction(\n",
              "                'suggestCharts', [key], {});\n",
              "          } catch (error) {\n",
              "            console.error('Error during call to suggestCharts:', error);\n",
              "          }\n",
              "          quickchartButtonEl.classList.remove('colab-df-spinner');\n",
              "          quickchartButtonEl.classList.add('colab-df-quickchart-complete');\n",
              "        }\n",
              "        (() => {\n",
              "          let quickchartButtonEl =\n",
              "            document.querySelector('#df-bd476552-6554-49f7-80ea-76626ddbb917 button');\n",
              "          quickchartButtonEl.style.display =\n",
              "            google.colab.kernel.accessAllowed ? 'block' : 'none';\n",
              "        })();\n",
              "      </script>\n",
              "    </div>\n",
              "\n",
              "  <div id=\"id_4cfbea39-5637-4044-9c70-1e35b4378bd9\">\n",
              "    <style>\n",
              "      .colab-df-generate {\n",
              "        background-color: #E8F0FE;\n",
              "        border: none;\n",
              "        border-radius: 50%;\n",
              "        cursor: pointer;\n",
              "        display: none;\n",
              "        fill: #1967D2;\n",
              "        height: 32px;\n",
              "        padding: 0 0 0 0;\n",
              "        width: 32px;\n",
              "      }\n",
              "\n",
              "      .colab-df-generate:hover {\n",
              "        background-color: #E2EBFA;\n",
              "        box-shadow: 0px 1px 2px rgba(60, 64, 67, 0.3), 0px 1px 3px 1px rgba(60, 64, 67, 0.15);\n",
              "        fill: #174EA6;\n",
              "      }\n",
              "\n",
              "      [theme=dark] .colab-df-generate {\n",
              "        background-color: #3B4455;\n",
              "        fill: #D2E3FC;\n",
              "      }\n",
              "\n",
              "      [theme=dark] .colab-df-generate:hover {\n",
              "        background-color: #434B5C;\n",
              "        box-shadow: 0px 1px 3px 1px rgba(0, 0, 0, 0.15);\n",
              "        filter: drop-shadow(0px 1px 2px rgba(0, 0, 0, 0.3));\n",
              "        fill: #FFFFFF;\n",
              "      }\n",
              "    </style>\n",
              "    <button class=\"colab-df-generate\" onclick=\"generateWithVariable('df')\"\n",
              "            title=\"Generate code using this dataframe.\"\n",
              "            style=\"display:none;\">\n",
              "\n",
              "  <svg xmlns=\"http://www.w3.org/2000/svg\" height=\"24px\"viewBox=\"0 0 24 24\"\n",
              "       width=\"24px\">\n",
              "    <path d=\"M7,19H8.4L18.45,9,17,7.55,7,17.6ZM5,21V16.75L18.45,3.32a2,2,0,0,1,2.83,0l1.4,1.43a1.91,1.91,0,0,1,.58,1.4,1.91,1.91,0,0,1-.58,1.4L9.25,21ZM18.45,9,17,7.55Zm-12,3A5.31,5.31,0,0,0,4.9,8.1,5.31,5.31,0,0,0,1,6.5,5.31,5.31,0,0,0,4.9,4.9,5.31,5.31,0,0,0,6.5,1,5.31,5.31,0,0,0,8.1,4.9,5.31,5.31,0,0,0,12,6.5,5.46,5.46,0,0,0,6.5,12Z\"/>\n",
              "  </svg>\n",
              "    </button>\n",
              "    <script>\n",
              "      (() => {\n",
              "      const buttonEl =\n",
              "        document.querySelector('#id_4cfbea39-5637-4044-9c70-1e35b4378bd9 button.colab-df-generate');\n",
              "      buttonEl.style.display =\n",
              "        google.colab.kernel.accessAllowed ? 'block' : 'none';\n",
              "\n",
              "      buttonEl.onclick = () => {\n",
              "        google.colab.notebook.generateWithVariable('df');\n",
              "      }\n",
              "      })();\n",
              "    </script>\n",
              "  </div>\n",
              "\n",
              "    </div>\n",
              "  </div>\n"
            ],
            "application/vnd.google.colaboratory.intrinsic+json": {
              "type": "dataframe",
              "variable_name": "df",
              "summary": "{\n  \"name\": \"df\",\n  \"rows\": 8550,\n  \"fields\": [\n    {\n      \"column\": \"index\",\n      \"properties\": {\n        \"dtype\": \"number\",\n        \"std\": 2468,\n        \"min\": 0,\n        \"max\": 8549,\n        \"num_unique_values\": 8550,\n        \"samples\": [\n          1558,\n          8167,\n          5551\n        ],\n        \"semantic_type\": \"\",\n        \"description\": \"\"\n      }\n    },\n    {\n      \"column\": \"item_identificador\",\n      \"properties\": {\n        \"dtype\": \"category\",\n        \"num_unique_values\": 1559,\n        \"samples\": [\n          \"FDF38\",\n          \"FDH35\",\n          \"FDX45\"\n        ],\n        \"semantic_type\": \"\",\n        \"description\": \"\"\n      }\n    },\n    {\n      \"column\": \"tienda_identificador\",\n      \"properties\": {\n        \"dtype\": \"category\",\n        \"num_unique_values\": 10,\n        \"samples\": [\n          \"OUT035\",\n          \"OUT049\",\n          \"OUT019\"\n        ],\n        \"semantic_type\": \"\",\n        \"description\": \"\"\n      }\n    },\n    {\n      \"column\": \"ventas_totales\",\n      \"properties\": {\n        \"dtype\": \"number\",\n        \"std\": 170809.84949883528,\n        \"min\": 3329.0,\n        \"max\": 1308696.48,\n        \"num_unique_values\": 3493,\n        \"samples\": [\n          392888.58,\n          422117.2,\n          726654.12\n        ],\n        \"semantic_type\": \"\",\n        \"description\": \"\"\n      }\n    },\n    {\n      \"column\": \"item\",\n      \"properties\": {\n        \"dtype\": \"string\",\n        \"num_unique_values\": 8523,\n        \"samples\": [\n          \"{'item_peso': 18.85, 'item_contenido_grasa': 'Bajo Contenido de Grasa', 'item_visibilidad': 0.05204497600000001, 'item_tipo': 'Abarrotes', 'item_precio': 192.18, 'item_cantidad_venta': None}\",\n          \"{'item_peso': 17.6, 'item_contenido_grasa': 'Bajo Contenido de Grasa', 'item_visibilidad': 0.058091269, 'item_tipo': 'Carnicer\\u00eda', 'item_precio': 156.23, 'item_cantidad_venta': None}\",\n          \"{'item_peso': 11.8, 'item_contenido_grasa': 'Regular', 'item_visibilidad': 0.057746382000000006, 'item_tipo': 'Carnicer\\u00eda', 'item_precio': 152.44, 'item_cantidad_venta': None}\"\n        ],\n        \"semantic_type\": \"\",\n        \"description\": \"\"\n      }\n    },\n    {\n      \"column\": \"tienda\",\n      \"properties\": {\n        \"dtype\": \"category\",\n        \"num_unique_values\": 10,\n        \"samples\": [\n          \"{'tienda_ano_establecimiento': 2014, 'tienda_tamano': 'Peque\\u00f1o', 'tienda_tipo_ubicacion': 'Nivel 2', 'tienda_tipo': 'Supermercado Tipo 1'}\",\n          \"{'tienda_ano_establecimiento': 2009, 'tienda_tamano': 'Medio', 'tienda_tipo_ubicacion': 'Nivel 1', 'tienda_tipo': 'Supermercado Tipo 1'}\",\n          \"{'tienda_ano_establecimiento': 1995, 'tienda_tamano': 'Peque\\u00f1o', 'tienda_tipo_ubicacion': 'Nivel 1', 'tienda_tipo': 'Mercado'}\"\n        ],\n        \"semantic_type\": \"\",\n        \"description\": \"\"\n      }\n    }\n  ]\n}"
            }
          },
          "metadata": {},
          "execution_count": 6
        }
      ]
    },
    {
      "cell_type": "markdown",
      "source": [
        "> #### <strong><font color=\"7b71ff\" size =6>Prompt:</font></strong>\n",
        "\n",
        "\n",
        "El DataFrame \"df\" posee las columnas \"item_identificador\", \"tienda_identificador\", \"ventas_totales\", \"item\" y \"tienda\".\n",
        "\n",
        "Las columnas \"item\" y \"tienda\" contienen diccionarios anidados dentro de cada una de las filas. ¿Cómo puedo transformar los datos de los diccionarios y columnas para hacerlos más accesibles en mi DataFrame?\n"
      ],
      "metadata": {
        "id": "y169VI1-eieU"
      }
    },
    {
      "cell_type": "code",
      "source": [
        "data = {\n",
        "    'item_identificador': [1, 2],\n",
        "    'tienda_identificador': [101, 102],\n",
        "    'ventas_totales': [150, 200],\n",
        "    'item': [{'nombre': 'Zapatos', 'categoria': 'Calzado'}, {'nombre': 'Camisa', 'categoria': 'Ropa'}],\n",
        "    'tienda': [{'nombre': 'Tienda A', 'ubicacion': 'Centro'}, {'nombre': 'Tienda B', 'ubicacion': 'Norte'}]\n",
        "}\n",
        "\n",
        "df = pd.DataFrame(data)"
      ],
      "metadata": {
        "id": "Y3yYF3M2eh4Q"
      },
      "execution_count": 8,
      "outputs": []
    },
    {
      "cell_type": "code",
      "source": [
        "# Expandir la columna 'item'\n",
        "item_df = pd.json_normalize(df['item'])\n",
        "item_df.columns = [f'item_{col}' for col in item_df.columns]  # Renombrar columnas para diferenciarlas\n",
        "\n",
        "# Expandir la columna 'tienda'\n",
        "tienda_df = pd.json_normalize(df['tienda'])\n",
        "tienda_df.columns = [f'tienda_{col}' for col in tienda_df.columns]  # Renombrar columnas para diferenciarlas\n",
        "\n",
        "# Concatenar los DataFrames\n",
        "df_expanded = pd.concat([df.drop(['item', 'tienda'], axis=1), item_df, tienda_df], axis=1)"
      ],
      "metadata": {
        "id": "yN2USgCt-vor"
      },
      "execution_count": 10,
      "outputs": []
    },
    {
      "cell_type": "code",
      "source": [
        "print(df_expanded)"
      ],
      "metadata": {
        "id": "TP7FS5Va-vl6",
        "colab": {
          "base_uri": "https://localhost:8080/"
        },
        "outputId": "12fa0016-5e93-42e3-aab9-db1c01bcb723"
      },
      "execution_count": 11,
      "outputs": [
        {
          "output_type": "stream",
          "name": "stdout",
          "text": [
            "   item_identificador  tienda_identificador  ventas_totales item_nombre  \\\n",
            "0                   1                   101             150     Zapatos   \n",
            "1                   2                   102             200      Camisa   \n",
            "\n",
            "  item_categoria tienda_nombre tienda_ubicacion  \n",
            "0        Calzado      Tienda A           Centro  \n",
            "1           Ropa      Tienda B            Norte  \n"
          ]
        }
      ]
    },
    {
      "cell_type": "markdown",
      "source": [
        "# **Clase 2 - Exploración de los dados**"
      ],
      "metadata": {
        "id": "s9k5kKMU1mvw"
      }
    },
    {
      "cell_type": "markdown",
      "source": [
        "> #### <strong><font color=\"7b71ff\" size =6>Prompt:</font></strong>\n",
        "\n",
        "El DataFrame \"df\" contiene datos referentes a las ventas de diversos productos en varias tiendas del supermercado. Se proporcionan los IDs de productos y los IDs de tiendas que comercializaron esos productos, el total recaudado en ventas, así como descripciones sobre el producto vendido y la tienda que lo vendió.\n",
        "\n",
        "Estamos iniciando la etapa de exploración de datos, en la cual deseamos conocer los valores informados e identificar si existen valores ausentes, duplicados y otras inconsistencias.\n",
        "\n",
        "Construye un código para ejecutar la etapa de exploración de datos usando Python, comentando el paso a paso de manera clara y objetiva.\n",
        "\n",
        "No es necesario utilizar \"print()\" para mostrar el resultado de las consultas."
      ],
      "metadata": {
        "id": "WMF2ZEvIxzA2"
      }
    },
    {
      "cell_type": "code",
      "source": [],
      "metadata": {
        "id": "MLzLjxbwftTZ"
      },
      "execution_count": null,
      "outputs": []
    },
    {
      "cell_type": "code",
      "source": [],
      "metadata": {
        "id": "hcOJc7YhftaO"
      },
      "execution_count": null,
      "outputs": []
    },
    {
      "cell_type": "code",
      "source": [],
      "metadata": {
        "id": "ljV-M4t6ftdt"
      },
      "execution_count": null,
      "outputs": []
    },
    {
      "cell_type": "code",
      "source": [],
      "metadata": {
        "id": "-r67qsYffuBz"
      },
      "execution_count": null,
      "outputs": []
    },
    {
      "cell_type": "markdown",
      "source": [
        "> #### <strong><font color=\"7b71ff\" size =6>Prompt:</font></strong>\n",
        "\n",
        "El DataFrame \"df\" contiene datos relacionados con las ventas durante un trimestre de un supermercado. Deseo utilizarlo para verificar el desempeño de esas ventas.\n",
        "\n",
        "Durante la exploración del \"df\", identificamos algunas inconsistencias, como:\n",
        "\n",
        "* Filas duplicadas,\n",
        "* Valores nulos y\n",
        "* Datos categóricos que fueron escritos de manera no estandarizada, dando la idea de que existen más categorías de las que realmente existen.\n",
        "\n",
        "¿Qué debo hacer para garantizar que esas inconsistencias que encontré no afecten mi análisis?"
      ],
      "metadata": {
        "id": "PXk-K8NxYrYA"
      }
    },
    {
      "cell_type": "markdown",
      "source": [
        "# **Clase 3 - Limpieza y tratamiento de los datos**"
      ],
      "metadata": {
        "id": "6o2fVWYYgm60"
      }
    },
    {
      "cell_type": "markdown",
      "source": [
        "> #### <strong><font color=\"7b71ff\" size =6>Prompt:</font></strong>\n",
        "\n",
        "\n",
        "Durante la exploración del DataFrame \"df\", identificamos 27 filas duplicadas usando \"df.duplicated().sum()\".\n",
        "\n",
        "El objetivo es analizar los datos en \"df\" para medir el desempeño de una empresa durante un trimestre de ventas.\n",
        "\n",
        "¿Qué debemos hacer con los datos duplicados para garantizar que no haya impacto negativo en el análisis?"
      ],
      "metadata": {
        "id": "H5Ys4ED7hBni"
      }
    },
    {
      "cell_type": "code",
      "source": [],
      "metadata": {
        "id": "aEL-RHLK-q9C"
      },
      "execution_count": null,
      "outputs": []
    },
    {
      "cell_type": "code",
      "source": [],
      "metadata": {
        "id": "ONCdgaeB-qz-"
      },
      "execution_count": null,
      "outputs": []
    },
    {
      "cell_type": "code",
      "source": [],
      "metadata": {
        "id": "tTkM8H4t-qxj"
      },
      "execution_count": null,
      "outputs": []
    },
    {
      "cell_type": "markdown",
      "source": [
        "> #### <strong><font color=\"7b71ff\" size =6>Prompt:</font></strong>\n",
        "\n",
        "\n",
        "Identificamos tres columnas en \"df\" que presentan valores nulos:\n",
        "\n",
        "* La columna \"item_cantidad_venta\" tiene 8550 filas con valores nulos.\n",
        "* La columna \"item_peso\" tiene 1469 filas con valores nulos.\n",
        "* La columna \"tienda_tamano\" tiene 2417 filas con valores nulos.\n",
        "\n",
        "Hubo un gran número de ventas de artículos durante el trimestre, y no hay justificación para la ausencia de datos en la columna \"item_cantidad_venta\", lo que la convierte en una columna prescindible.\n",
        "\n",
        "La columna \"item_peso\" contiene valores del tipo float, representando el peso en gramos de los productos.\n",
        "\n",
        "La columna \"tienda_tamano\" tiene tres categorías de tamaño para supermercados.\n",
        "\n",
        "¿Cómo debo manejar estos datos nulos para garantizar que mi análisis no se vea afectado?"
      ],
      "metadata": {
        "id": "Jg3OEDfphkzI"
      }
    },
    {
      "cell_type": "code",
      "source": [],
      "metadata": {
        "id": "_u4Hpb3qhvkh"
      },
      "execution_count": null,
      "outputs": []
    },
    {
      "cell_type": "code",
      "source": [],
      "metadata": {
        "id": "74U8Jz62hvhI"
      },
      "execution_count": null,
      "outputs": []
    },
    {
      "cell_type": "code",
      "source": [],
      "metadata": {
        "id": "QxcEY2a0hvdI"
      },
      "execution_count": null,
      "outputs": []
    },
    {
      "cell_type": "markdown",
      "source": [
        "> #### <strong><font color=\"7b71ff\" size =6>Prompt:</font></strong>\n",
        "\n",
        "La columna \"item_conteudo_grasa\" del DataFrame \"df\" presenta 5 valores únicos dados por: 'Bajo Contenido de Grasa', 'Regular', 'BTG', 'reg' y 'bajo contenido de grasa'.\n",
        "\n",
        "Los valores únicos de la columna \"item_contenido_grasa\" deberían ser solo 'Bajo Contenido de Grasa' y 'Regular', pero fueron insertados sin estandarización, lo que resultó en más categorías de las deseadas.\n",
        "\n",
        "¿Cómo puedo ajustar los datos de la columna \"item_contenido_grasa\" para mantener solo las dos categorías estándar?"
      ],
      "metadata": {
        "id": "MImLMmWCjyka"
      }
    },
    {
      "cell_type": "code",
      "source": [],
      "metadata": {
        "id": "DM7Nv222kG4I"
      },
      "execution_count": null,
      "outputs": []
    },
    {
      "cell_type": "code",
      "source": [],
      "metadata": {
        "id": "wSgPk9eHkjA1"
      },
      "execution_count": null,
      "outputs": []
    },
    {
      "cell_type": "code",
      "source": [],
      "metadata": {
        "id": "I0CFtC36ki-X"
      },
      "execution_count": null,
      "outputs": []
    },
    {
      "cell_type": "markdown",
      "source": [
        "# **Clase 4 - Visualización de datos**"
      ],
      "metadata": {
        "id": "fA0YWY3fklPO"
      }
    },
    {
      "cell_type": "markdown",
      "source": [
        "> #### <strong><font color=\"7b71ff\" size =6>Prompt:</font></strong>\n",
        "\n",
        "Los datos del DataFrame \"df\" están limpios y tratados. Ahora, deseo iniciar la etapa de construcción de gráficos para crear visualizaciones que ofrezcan un buen soporte al análisis del desempeño de ventas de la empresa.\n",
        "\n",
        "Las columnas disponibles en \"df\" son las siguientes:\n",
        "- \"item_identificador\": Número único asignado a cada ítem\n",
        "- \"tienda_identificador\": Nombre único de la tienda\n",
        "- \"ventas_totales\": Valor obtenido en ventas totales\n",
        "- \"item_peso\": Peso del ítem en gramos\n",
        "- \"item_contenido_grasa\": Contenido de grasa del ítem\n",
        "- \"item_visibilidad\": Valor de posicionamiento de cada ítem\n",
        "- \"item_tipo\": Tipo de utilidad del ítem\n",
        "- \"item_precio\": Precio unitario del ítem\n",
        "- \"tienda_ano_establecimiento\": Año de Establecimiento de la tienda\n",
        "- \"tienda_tamano\": Tamaño de la tienda\n",
        "- \"tienda_tipo_ubicacion\": Tipo de ubicación de la tienda\n",
        "- \"tienda_tipo\": Tipo de tienda\n",
        "\n",
        "El objetivo es encontrar patrones o información que se destaquen cuando nos referimos al total obtenido en ventas especificado en la columna \"ventas_totales\".\n",
        "\n",
        "Con base en la información proporcionada, ¿qué tipos de visualizaciones serían útiles para alcanzar el objetivo de analizar el desempeño de ventas?"
      ],
      "metadata": {
        "id": "aM_kFENDksvA"
      }
    },
    {
      "cell_type": "code",
      "source": [],
      "metadata": {
        "id": "OYFjjewQkqCt"
      },
      "execution_count": null,
      "outputs": []
    },
    {
      "cell_type": "code",
      "source": [],
      "metadata": {
        "id": "RqgUTMWzkvqn"
      },
      "execution_count": null,
      "outputs": []
    },
    {
      "cell_type": "code",
      "source": [],
      "metadata": {
        "id": "pTdhJ_91kvjO"
      },
      "execution_count": null,
      "outputs": []
    },
    {
      "cell_type": "markdown",
      "source": [
        "> #### <strong><font color=\"7b71ff\" size =6>Prompt:</font></strong>\n",
        "\n",
        "El DataFrame \"df\" contiene la columna \"ventas_totales\", que informa el valor en reales obtenido en ventas de productos por varias tiendas.\n",
        "\n",
        "Además, en \"df\", tenemos la columna \"tienda_tamano\" con 4 categorías de tamaño para tiendas: 'Grande', 'Medio', 'Pequeño' y 'No registrado'.\n",
        "\n",
        "Deseo crear una visualización que permita identificar el total obtenido en ventas para las cuatro categorías de tamaño de tienda y representarlas en un gráfico de barras.\n",
        "\n",
        "Los datos en la columna \"ventas_totales\" necesitan ser agrupados por las categorías de \"tienda_tamano\".\n",
        "\n",
        "La figura del gráfico debe seguir la identidad visual de la tienda, con el fondo de la figura y del gráfico en color \"#ebebeb\" y las barras en color \"#e23155\".\n",
        "\n",
        "Además, es necesario mostrar el total de las ventas en millones encima de cada columna, con el texto de esta información en color \"#19325c\" y la estructura \"MXN $ valor M\".\n",
        "\n",
        "Utiliza las bibliotecas de visualización de datos de Python para crear esta visualización."
      ],
      "metadata": {
        "id": "yeX5F_6JkwNT"
      }
    },
    {
      "cell_type": "code",
      "source": [],
      "metadata": {
        "id": "c0nhrTSTkypf"
      },
      "execution_count": null,
      "outputs": []
    },
    {
      "cell_type": "code",
      "source": [],
      "metadata": {
        "id": "ygpnyxULkycq"
      },
      "execution_count": null,
      "outputs": []
    },
    {
      "cell_type": "code",
      "source": [],
      "metadata": {
        "id": "upv8NRljkxg1"
      },
      "execution_count": null,
      "outputs": []
    },
    {
      "cell_type": "markdown",
      "source": [
        "> #### <strong><font color=\"7b71ff\" size =6>Prompt:</font></strong>\n",
        "\n",
        "\n",
        "El DataFrame \"df\" contiene la columna \"ventas_totales\", que informa el valor en reales obtenido en ventas de productos por varias tiendas.\n",
        "\n",
        "Además, en \"df\", tenemos la columna \"tienda_tipo\" con 4 categorías de tipo para tiendas: 'Supermercado Tipo 1', 'Supermercado Tipo 2', 'Mercado', 'Supermercado Tipo 3'.\n",
        "\n",
        "Deseo crear una visualización que permita identificar el total obtenido en ventas para las cuatro categorías de tipo de tienda y representarlas en un gráfico de barras.\n",
        "\n",
        "Los datos en la columna \"ventas_totales\" deben ser agrupados por las categorías de \"tienda_tipo\".\n",
        "\n",
        "La figura de la gráfica debe seguir la identidad visual de la tienda, con el fondo de la figura y de la gráfica en color \"#ebebeb\" y las barras en color \"#e23155\".\n",
        "\n",
        "Además, es necesario mostrar el total de las ventas en millones sobre cada columna, con el texto de esa información en color \"#19325c\" y la estructura \"MXN$ valor M\".\n",
        "\n",
        "Utiliza las bibliotecas de visualización de datos de Python para crear esta visualización."
      ],
      "metadata": {
        "id": "4EQnjMYqky1n"
      }
    },
    {
      "cell_type": "code",
      "source": [],
      "metadata": {
        "id": "pfi-SFx_k2KB"
      },
      "execution_count": null,
      "outputs": []
    },
    {
      "cell_type": "code",
      "source": [],
      "metadata": {
        "id": "ll0DAm-Om8a6"
      },
      "execution_count": null,
      "outputs": []
    },
    {
      "cell_type": "code",
      "source": [],
      "metadata": {
        "id": "EGzfDBnrm8XG"
      },
      "execution_count": null,
      "outputs": []
    },
    {
      "cell_type": "markdown",
      "source": [
        "> #### <strong><font color=\"7b71ff\" size =6>Prompt:</font></strong>\n",
        "\n",
        "El DataFrame \"df\" contiene la columna \"ventas_totales\", que informa el valor en reales obtenido en ventas de productos por varias tiendas.\n",
        "\n",
        "Además, en \"df\", tenemos la columna \"item_tipo\" con 16 categorías de productos.\n",
        "\n",
        "Deseo crear una visualización que permita identificar el total obtenido en ventas por categorías de productos en un gráfico de barras horizontales.\n",
        "\n",
        "Los datos en la columna \"ventas_totales\" deben agruparse por las categorías de \"item_tipo\".\n",
        "\n",
        "La figura de la representación debe seguir la identidad visual de la tienda, con el fondo de la figura y del gráfico en el color \"#ebebeb\".\n",
        "\n",
        "Las barras deben estar en el color \"#e23155\".\n",
        "\n",
        "Los valores de las barras deben estar ordenados para mantener un aspecto de embudo.\n",
        "\n",
        "Además, es necesario mostrar el total de las ventas en millones dentro o al lado de cada barra, con el texto de esa información en el color \"#19325c\" y en la estructura \"MXN$ valor M\".\n",
        "\n",
        "No muestres la cuadrícula en el gráfico.\n",
        "\n",
        "Utiliza las bibliotecas de visualización de datos de Python para crear esta visualización."
      ],
      "metadata": {
        "id": "la-SmOVmm8zU"
      }
    },
    {
      "cell_type": "code",
      "source": [],
      "metadata": {
        "id": "cw51bHvKnjsx"
      },
      "execution_count": null,
      "outputs": []
    },
    {
      "cell_type": "code",
      "source": [],
      "metadata": {
        "id": "4AhHJEXFnjlV"
      },
      "execution_count": null,
      "outputs": []
    },
    {
      "cell_type": "code",
      "source": [],
      "metadata": {
        "id": "VT0G3nCEnjiD"
      },
      "execution_count": null,
      "outputs": []
    },
    {
      "cell_type": "code",
      "source": [],
      "metadata": {
        "id": "Ccy1WcNtnjDU"
      },
      "execution_count": null,
      "outputs": []
    }
  ]
}